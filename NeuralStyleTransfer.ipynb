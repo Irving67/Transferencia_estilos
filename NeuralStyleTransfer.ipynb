{
 "cells": [
  {
   "cell_type": "markdown",
   "metadata": {},
   "source": [
    "# Transferencia de estilos a imágenes existente, utilizando redes neuronales"
   ]
  },
  {
   "cell_type": "markdown",
   "metadata": {},
   "source": [
    "Decalaraciones iniciales de Keras e imagenes a utilizar"
   ]
  },
  {
   "cell_type": "code",
   "execution_count": 1,
   "metadata": {},
   "outputs": [
    {
     "name": "stderr",
     "output_type": "stream",
     "text": [
      "Using TensorFlow backend.\n"
     ]
    }
   ],
   "source": [
    "#Declaración de librerías (Keras para convertir imagen a array)\n",
    "from keras.preprocessing.image import load_img, img_to_array\n",
    "\n",
    "#Declaración de las rutas de la imagen base y la imagen que contiene el estilo (Directorio actual)\n",
    "imgContent_path = 'big-ben-londres.jpg'\n",
    "imgStyle_path = 'noche-estrellada.jpg'\n",
    "#Obtención de las dimensiones que tiene la imagen base\n",
    "width, height = load_img(imgContent_path).size\n",
    "#Reescalamos la imagen a una altura de 200 pixeles y su correspondiente proporcional de ancho según los valores anteriores\n",
    "#para evitar un procesamiento muy elevado\n",
    "img_height = 200\n",
    "img_width = int(width*img_height/height)"
   ]
  },
  {
   "cell_type": "markdown",
   "metadata": {},
   "source": [
    "Declaración de librerías de Numpy y funciones para tratamiento de imágenes"
   ]
  },
  {
   "cell_type": "code",
   "execution_count": 11,
   "metadata": {},
   "outputs": [],
   "source": [
    "#Importar librerías y funciones\n",
    "import numpy as np\n",
    "from keras.applications import vgg16\n",
    "\n",
    "#Función para procesamiento de imagen (1)\n",
    "def preprocess_image(image_path):\n",
    "    #Se carga la imagen y se reescala con los valores calculados anteriormente\n",
    "    img = load_img(image_path, target_size=(img_height, img_width))\n",
    "    #La imagen es convertido en un array plano que contiene el valor de 3 canales de la imagen (RGB)\n",
    "    img = img_to_array(img)\n",
    "    #A la imagen anterior le es agregada una nueva dimensión o eje (0)\n",
    "    img = np.expand_dims(img, axis=0)\n",
    "    #Vgg16 es un modelo preentrenado de red neuronal perteneciente a ImageNet\n",
    "    img = vgg16.preprocess_input(img)\n",
    "    return img\n",
    "\n",
    "\n",
    "def deprocess_image(x):\n",
    "    #Ajustes de la imagen\n",
    "    # Se remueve el el valor central (0) para cada pixel como dice la documentación de Keras \n",
    "    x[:, :, 0] += 103.939  \n",
    "    x[:, :, 1] += 116.779\n",
    "    x[:, :, 2] += 123.68\n",
    "    #Se realiza la conversión BGR -> RGB\n",
    "    x = x[:, :, ::-1]  \n",
    "    #Limita los valores de los canales de entrada entre 0 y 255 y en formato uint8 (Para solo tener valores válidos de\n",
    "    #intensidad para cada pixel)\n",
    "    x = np.clip(x, 0, 255).astype('uint8')\n",
    "    return x"
   ]
  },
  {
   "cell_type": "code",
   "execution_count": 12,
   "metadata": {},
   "outputs": [],
   "source": [
    "from keras import backend as K\n",
    "\n",
    "# Se mide la diferencia entre las representaciones (mapas de rasgos) mas abstractas de dos imagenes\n",
    "def Jcontent(features1, features2):\n",
    "    return K.sum(K.square(features2 - features1))\n",
    "\n",
    "# Metrica autosimilitud para los mapas de rasgos\n",
    "def gram_matrix(x):\n",
    "    #vectoriza respecto el ancho y la altura, no el canal.\n",
    "    #Además, se incerta la capa de rasgos en el medio de la imagen original y se hace un \"aplanamiento\" para tener\n",
    "    #un concentrado de las imágenes (autosimilitud)\n",
    "    features = K.batch_flatten(K.permute_dimensions(x, (2, 0, 1)))\n",
    "    gram = K.dot(features, K.transpose(features))\n",
    "    return gram\n",
    "\n",
    "# Mide la diferencia entre auto-similitudes de los mapas de rasgos\n",
    "def Jstyle(features1, features2):\n",
    "    G1 = gram_matrix(features1)\n",
    "    G2 = gram_matrix(features2)\n",
    "    #channels = K.int_shape(style)[2]\n",
    "    channels = 3\n",
    "    size = img_height*img_width\n",
    "    return K.sum(K.square(G2 - G1))/(4.*(channels**2)*(size**2))\n",
    "\n",
    "# Metrica para medir la similitud entre pixels contiguos en horizotal y vertical\n",
    "def Jtotalvariation(x):\n",
    "    dh = K.square(x[:, :img_height-1, :img_width-1, :] - x[:, 1:, :img_width-1, :])\n",
    "    dw = K.square(x[:, :img_height-1, :img_width-1, :] - x[:, :img_height-1, 1:, :])\n",
    "    return K.sum(K.pow(dh + dw, 1.25))"
   ]
  },
  {
   "cell_type": "code",
   "execution_count": 14,
   "metadata": {},
   "outputs": [
    {
     "name": "stdout",
     "output_type": "stream",
     "text": [
      "_________________________________________________________________\n",
      "Layer (type)                 Output Shape              Param #   \n",
      "=================================================================\n",
      "input_2 (InputLayer)         (None, None, None, 3)     0         \n",
      "_________________________________________________________________\n",
      "block1_conv1 (Conv2D)        (None, None, None, 64)    1792      \n",
      "_________________________________________________________________\n",
      "block1_conv2 (Conv2D)        (None, None, None, 64)    36928     \n",
      "_________________________________________________________________\n",
      "block1_pool (MaxPooling2D)   (None, None, None, 64)    0         \n",
      "_________________________________________________________________\n",
      "block2_conv1 (Conv2D)        (None, None, None, 128)   73856     \n",
      "_________________________________________________________________\n",
      "block2_conv2 (Conv2D)        (None, None, None, 128)   147584    \n",
      "_________________________________________________________________\n",
      "block2_pool (MaxPooling2D)   (None, None, None, 128)   0         \n",
      "_________________________________________________________________\n",
      "block3_conv1 (Conv2D)        (None, None, None, 256)   295168    \n",
      "_________________________________________________________________\n",
      "block3_conv2 (Conv2D)        (None, None, None, 256)   590080    \n",
      "_________________________________________________________________\n",
      "block3_conv3 (Conv2D)        (None, None, None, 256)   590080    \n",
      "_________________________________________________________________\n",
      "block3_pool (MaxPooling2D)   (None, None, None, 256)   0         \n",
      "_________________________________________________________________\n",
      "block4_conv1 (Conv2D)        (None, None, None, 512)   1180160   \n",
      "_________________________________________________________________\n",
      "block4_conv2 (Conv2D)        (None, None, None, 512)   2359808   \n",
      "_________________________________________________________________\n",
      "block4_conv3 (Conv2D)        (None, None, None, 512)   2359808   \n",
      "_________________________________________________________________\n",
      "block4_pool (MaxPooling2D)   (None, None, None, 512)   0         \n",
      "_________________________________________________________________\n",
      "block5_conv1 (Conv2D)        (None, None, None, 512)   2359808   \n",
      "_________________________________________________________________\n",
      "block5_conv2 (Conv2D)        (None, None, None, 512)   2359808   \n",
      "_________________________________________________________________\n",
      "block5_conv3 (Conv2D)        (None, None, None, 512)   2359808   \n",
      "_________________________________________________________________\n",
      "block5_pool (MaxPooling2D)   (None, None, None, 512)   0         \n",
      "=================================================================\n",
      "Total params: 14,714,688\n",
      "Trainable params: 14,714,688\n",
      "Non-trainable params: 0\n",
      "_________________________________________________________________\n"
     ]
    }
   ],
   "source": [
    "#Se mandan a llamar las funciones anteriores (Preprocesamiento para mabas imágenes)\n",
    "imgContent = K.constant(preprocess_image(imgContent_path))\n",
    "imgStyle = K.constant(preprocess_image(imgStyle_path))\n",
    "imgGen = K.placeholder((1, img_height, img_width, 3))\n",
    "#Se concatenan tanto la imagen original, la del estilo y la que contendrá los rasgos en el eje cero\n",
    "input_tensor = K.concatenate([imgContent,imgStyle,imgGen], axis=0)\n",
    "#Se genera el modelo de red neuronal a partir de los mapas de rasgos y la imágenes usadas\n",
    "#(Utilizando los pesos de la red preentrenada)\n",
    "model = vgg16.VGG16(input_tensor=input_tensor,weights='imagenet',include_top=False)\n",
    "model.summary()"
   ]
  },
  {
   "cell_type": "code",
   "execution_count": 15,
   "metadata": {},
   "outputs": [],
   "source": [
    "#Reescribimos los parámetros del modelo para darle mayor peso a los rasgos \n",
    "outputs_dict = dict([(layer.name, layer.output) for layer in model.layers])\n",
    "content_layer = 'block5_conv2'\n",
    "style_layers = ['block1_conv1','block2_conv1','block3_conv1','block4_conv1','block5_conv1']\n",
    "total_variation_weight = 1e-4\n",
    "style_weight = 1e3\n",
    "content_weight = 1e-2"
   ]
  },
  {
   "cell_type": "code",
   "execution_count": 16,
   "metadata": {},
   "outputs": [
    {
     "name": "stdout",
     "output_type": "stream",
     "text": [
      "WARNING:tensorflow:Variable += will be deprecated. Use variable.assign_add if you want assignment to the variable value or 'x = x + y' if you want a new python Tensor object.\n"
     ]
    }
   ],
   "source": [
    "# Construir la funcion de costo total (Para la predicción de estilo en cada pixel de la imagen)\n",
    "loss = K.variable(0.)\n",
    "\n",
    "layer_features = outputs_dict[content_layer]\n",
    "imgContent_features = layer_features[0, :, :, :]\n",
    "imgGen_features = layer_features[2, :, :, :]\n",
    "loss += content_weight*Jcontent(imgContent_features,imgGen_features)\n",
    "\n",
    "for layer_name in style_layers:\n",
    "    layer_features = outputs_dict[layer_name]\n",
    "    imgStyle_features = layer_features[1, :, :, :]\n",
    "    imgGen_features = layer_features[2, :, :, :]\n",
    "    Jstyle_layer = Jstyle(imgStyle_features, imgGen_features)\n",
    "    loss += (style_weight/len(style_layers))*Jstyle_layer\n",
    "\n",
    "#La función de costo se determina a partir de las variaciones en la imagen \n",
    "loss += total_variation_weight*Jtotalvariation(imgGen)"
   ]
  },
  {
   "cell_type": "code",
   "execution_count": 17,
   "metadata": {},
   "outputs": [],
   "source": [
    "grads = K.gradients(loss, imgGen)[0]\n",
    "fetch_loss_and_grads = K.function([imgGen], [loss, grads])\n",
    "class Evaluator(object):\n",
    "    \n",
    "# Funciones de seteo, cálculo de costo y gradientes \n",
    "    def __init__(self):\n",
    "        self.loss_value = None\n",
    "        self.grads_values = None\n",
    "        \n",
    "    def loss(self, x):\n",
    "        assert self.loss_value is None\n",
    "        x = x.reshape((1, img_height, img_width, 3))\n",
    "        outs = fetch_loss_and_grads([x])\n",
    "        \n",
    "        loss_value = outs[0]\n",
    "        grad_values = outs[1].flatten().astype('float64')\n",
    "        self.loss_value = loss_value\n",
    "        self.grad_values = grad_values\n",
    "        return self.loss_value\n",
    "\n",
    "    def grads(self, x):\n",
    "        assert self.loss_value is not None\n",
    "        grad_values = np.copy(self.grad_values)\n",
    "        self.loss_value = None\n",
    "        self.grad_values = None\n",
    "        return grad_values\n",
    "    \n",
    "evaluator = Evaluator()"
   ]
  },
  {
   "cell_type": "code",
   "execution_count": 18,
   "metadata": {
    "scrolled": true
   },
   "outputs": [
    {
     "name": "stdout",
     "output_type": "stream",
     "text": [
      "Iniciando iteracion 1\n",
      "Costo = 600583100000.0\n",
      "Iteracion 1 completada en 167seg\n"
     ]
    },
    {
     "data": {
      "text/plain": [
       "<Figure size 640x480 with 1 Axes>"
      ]
     },
     "metadata": {},
     "output_type": "display_data"
    },
    {
     "name": "stdout",
     "output_type": "stream",
     "text": [
      "Iniciando iteracion 2\n",
      "Costo = 186133820000.0\n",
      "Iteracion 2 completada en 179seg\n"
     ]
    },
    {
     "data": {
      "text/plain": [
       "<Figure size 640x480 with 1 Axes>"
      ]
     },
     "metadata": {},
     "output_type": "display_data"
    },
    {
     "name": "stdout",
     "output_type": "stream",
     "text": [
      "Iniciando iteracion 3\n",
      "Costo = 118775520000.0\n",
      "Iteracion 3 completada en 182seg\n"
     ]
    },
    {
     "data": {
      "text/plain": [
       "<Figure size 640x480 with 1 Axes>"
      ]
     },
     "metadata": {},
     "output_type": "display_data"
    },
    {
     "name": "stdout",
     "output_type": "stream",
     "text": [
      "Iniciando iteracion 4\n",
      "Costo = 91202440000.0\n",
      "Iteracion 4 completada en 181seg\n"
     ]
    },
    {
     "data": {
      "text/plain": [
       "<Figure size 640x480 with 1 Axes>"
      ]
     },
     "metadata": {},
     "output_type": "display_data"
    },
    {
     "name": "stdout",
     "output_type": "stream",
     "text": [
      "Iniciando iteracion 5\n",
      "Costo = 76027855000.0\n",
      "Iteracion 5 completada en 182seg\n"
     ]
    },
    {
     "data": {
      "text/plain": [
       "<Figure size 640x480 with 1 Axes>"
      ]
     },
     "metadata": {},
     "output_type": "display_data"
    },
    {
     "name": "stdout",
     "output_type": "stream",
     "text": [
      "Iniciando iteracion 6\n",
      "Costo = 64959030000.0\n",
      "Iteracion 6 completada en 178seg\n"
     ]
    },
    {
     "data": {
      "text/plain": [
       "<Figure size 640x480 with 1 Axes>"
      ]
     },
     "metadata": {},
     "output_type": "display_data"
    },
    {
     "name": "stdout",
     "output_type": "stream",
     "text": [
      "Iniciando iteracion 7\n",
      "Costo = 57673826000.0\n",
      "Iteracion 7 completada en 179seg\n"
     ]
    },
    {
     "data": {
      "text/plain": [
       "<Figure size 640x480 with 1 Axes>"
      ]
     },
     "metadata": {},
     "output_type": "display_data"
    },
    {
     "name": "stdout",
     "output_type": "stream",
     "text": [
      "Iniciando iteracion 8\n",
      "Costo = 52953110000.0\n",
      "Iteracion 8 completada en 181seg\n"
     ]
    },
    {
     "data": {
      "text/plain": [
       "<Figure size 640x480 with 1 Axes>"
      ]
     },
     "metadata": {},
     "output_type": "display_data"
    },
    {
     "name": "stdout",
     "output_type": "stream",
     "text": [
      "Iniciando iteracion 9\n",
      "Costo = 48572457000.0\n",
      "Iteracion 9 completada en 178seg\n"
     ]
    },
    {
     "data": {
      "text/plain": [
       "<Figure size 640x480 with 1 Axes>"
      ]
     },
     "metadata": {},
     "output_type": "display_data"
    },
    {
     "name": "stdout",
     "output_type": "stream",
     "text": [
      "Iniciando iteracion 10\n",
      "Costo = 45329834000.0\n",
      "Iteracion 10 completada en 171seg\n"
     ]
    },
    {
     "data": {
      "text/plain": [
       "<Figure size 640x480 with 1 Axes>"
      ]
     },
     "metadata": {},
     "output_type": "display_data"
    }
   ],
   "source": [
    "from scipy.optimize import fmin_l_bfgs_b\n",
    "import matplotlib.pyplot as plt\n",
    "import time\n",
    "\n",
    "result_prefix = 'output'\n",
    "iterations = 10\n",
    "x = preprocess_image(imgContent_path)\n",
    "x = x.flatten()\n",
    "\n",
    "#Se realizan las iteraciones (10 en este caso) donde se obtiene el costo y los valores de todas las capas para cada pixel \n",
    "for i in range(iterations):\n",
    "    print('Iniciando iteracion', i+1)\n",
    "    start_time = time.time()\n",
    "    x, min_val, info = fmin_l_bfgs_b(evaluator.loss, x, fprime=evaluator.grads, maxfun=20)\n",
    "    \n",
    "    print('Costo =', min_val)\n",
    "    img = x.copy().reshape((img_height, img_width, 3))\n",
    "    img = deprocess_image(img)\n",
    "    end_time = time.time()\n",
    "    print('Iteracion %d completada en %dseg' % (i+1, end_time - start_time))\n",
    "    plt.imshow(img)\n",
    "    plt.show()"
   ]
  },
  {
   "cell_type": "code",
   "execution_count": 19,
   "metadata": {},
   "outputs": [],
   "source": [
    "from imageio import imwrite\n",
    "imwrite('Resultado.jpg', img)"
   ]
  },
  {
   "cell_type": "code",
   "execution_count": null,
   "metadata": {},
   "outputs": [],
   "source": []
  }
 ],
 "metadata": {
  "kernelspec": {
   "display_name": "Python 3",
   "language": "python",
   "name": "python3"
  },
  "language_info": {
   "codemirror_mode": {
    "name": "ipython",
    "version": 3
   },
   "file_extension": ".py",
   "mimetype": "text/x-python",
   "name": "python",
   "nbconvert_exporter": "python",
   "pygments_lexer": "ipython3",
   "version": "3.7.1"
  },
  "widgets": {
   "state": {},
   "version": "1.1.2"
  }
 },
 "nbformat": 4,
 "nbformat_minor": 2
}
